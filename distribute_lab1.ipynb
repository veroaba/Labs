{
 "cells": [
  {
   "cell_type": "markdown",
   "metadata": {},
   "source": [
    "# Lab 1: Dictionaries and Classes"
   ]
  },
  {
   "cell_type": "markdown",
   "metadata": {},
   "source": [
    "## EXERCISE 1: Count words in Julius Caesar and make a text based histogram\n",
    "\n",
    "Building on the first lab, using lowercase words, lets make a histogram. Create a dictionary `worddict`, that has the counts of all the words in Caesar."
   ]
  },
  {
   "cell_type": "code",
   "execution_count": 1,
   "metadata": {},
   "outputs": [
    {
     "ename": "FileNotFoundError",
     "evalue": "[Errno 2] No such file or directory: 'julius_caesar.txt'",
     "output_type": "error",
     "traceback": [
      "\u001b[0;31m---------------------------------------------------------------------------\u001b[0m",
      "\u001b[0;31mFileNotFoundError\u001b[0m                         Traceback (most recent call last)",
      "Cell \u001b[0;32mIn[1], line 33\u001b[0m\n\u001b[1;32m     30\u001b[0m file_path \u001b[38;5;241m=\u001b[39m \u001b[38;5;124m'\u001b[39m\u001b[38;5;124mjulius_caesar.txt\u001b[39m\u001b[38;5;124m'\u001b[39m\n\u001b[1;32m     32\u001b[0m \u001b[38;5;66;03m# Process the file\u001b[39;00m\n\u001b[0;32m---> 33\u001b[0m word_count \u001b[38;5;241m=\u001b[39m \u001b[43mread_and_count_words\u001b[49m\u001b[43m(\u001b[49m\u001b[43mfile_path\u001b[49m\u001b[43m)\u001b[49m\n\u001b[1;32m     35\u001b[0m \u001b[38;5;66;03m# Print top words and their counts\u001b[39;00m\n\u001b[1;32m     36\u001b[0m print_top_words(word_count)\n",
      "Cell \u001b[0;32mIn[1], line 6\u001b[0m, in \u001b[0;36mread_and_count_words\u001b[0;34m(file_path)\u001b[0m\n\u001b[1;32m      4\u001b[0m \u001b[38;5;28;01mdef\u001b[39;00m \u001b[38;5;21mread_and_count_words\u001b[39m(file_path):\n\u001b[1;32m      5\u001b[0m     word_count \u001b[38;5;241m=\u001b[39m {}\n\u001b[0;32m----> 6\u001b[0m     \u001b[38;5;28;01mwith\u001b[39;00m \u001b[38;5;28;43mopen\u001b[39;49m\u001b[43m(\u001b[49m\u001b[43mfile_path\u001b[49m\u001b[43m,\u001b[49m\u001b[43m \u001b[49m\u001b[38;5;124;43m'\u001b[39;49m\u001b[38;5;124;43mr\u001b[39;49m\u001b[38;5;124;43m'\u001b[39;49m\u001b[43m,\u001b[49m\u001b[43m \u001b[49m\u001b[43mencoding\u001b[49m\u001b[38;5;241;43m=\u001b[39;49m\u001b[38;5;124;43m'\u001b[39;49m\u001b[38;5;124;43mutf-8\u001b[39;49m\u001b[38;5;124;43m'\u001b[39;49m\u001b[43m)\u001b[49m \u001b[38;5;28;01mas\u001b[39;00m file:\n\u001b[1;32m      7\u001b[0m         \u001b[38;5;28;01mfor\u001b[39;00m line \u001b[38;5;129;01min\u001b[39;00m file:\n\u001b[1;32m      8\u001b[0m             \u001b[38;5;66;03m# Remove punctuation and convert to lowercase\u001b[39;00m\n\u001b[1;32m      9\u001b[0m             line \u001b[38;5;241m=\u001b[39m line\u001b[38;5;241m.\u001b[39mtranslate(\u001b[38;5;28mstr\u001b[39m\u001b[38;5;241m.\u001b[39mmaketrans(\u001b[38;5;124m'\u001b[39m\u001b[38;5;124m'\u001b[39m, \u001b[38;5;124m'\u001b[39m\u001b[38;5;124m'\u001b[39m, string\u001b[38;5;241m.\u001b[39mpunctuation))\u001b[38;5;241m.\u001b[39mlower()\n",
      "File \u001b[0;32m~/sci1/.pixi/envs/default/lib/python3.12/site-packages/IPython/core/interactiveshell.py:324\u001b[0m, in \u001b[0;36m_modified_open\u001b[0;34m(file, *args, **kwargs)\u001b[0m\n\u001b[1;32m    317\u001b[0m \u001b[38;5;28;01mif\u001b[39;00m file \u001b[38;5;129;01min\u001b[39;00m {\u001b[38;5;241m0\u001b[39m, \u001b[38;5;241m1\u001b[39m, \u001b[38;5;241m2\u001b[39m}:\n\u001b[1;32m    318\u001b[0m     \u001b[38;5;28;01mraise\u001b[39;00m \u001b[38;5;167;01mValueError\u001b[39;00m(\n\u001b[1;32m    319\u001b[0m         \u001b[38;5;124mf\u001b[39m\u001b[38;5;124m\"\u001b[39m\u001b[38;5;124mIPython won\u001b[39m\u001b[38;5;124m'\u001b[39m\u001b[38;5;124mt let you open fd=\u001b[39m\u001b[38;5;132;01m{\u001b[39;00mfile\u001b[38;5;132;01m}\u001b[39;00m\u001b[38;5;124m by default \u001b[39m\u001b[38;5;124m\"\u001b[39m\n\u001b[1;32m    320\u001b[0m         \u001b[38;5;124m\"\u001b[39m\u001b[38;5;124mas it is likely to crash IPython. If you know what you are doing, \u001b[39m\u001b[38;5;124m\"\u001b[39m\n\u001b[1;32m    321\u001b[0m         \u001b[38;5;124m\"\u001b[39m\u001b[38;5;124myou can use builtins\u001b[39m\u001b[38;5;124m'\u001b[39m\u001b[38;5;124m open.\u001b[39m\u001b[38;5;124m\"\u001b[39m\n\u001b[1;32m    322\u001b[0m     )\n\u001b[0;32m--> 324\u001b[0m \u001b[38;5;28;01mreturn\u001b[39;00m \u001b[43mio_open\u001b[49m\u001b[43m(\u001b[49m\u001b[43mfile\u001b[49m\u001b[43m,\u001b[49m\u001b[43m \u001b[49m\u001b[38;5;241;43m*\u001b[39;49m\u001b[43margs\u001b[49m\u001b[43m,\u001b[49m\u001b[43m \u001b[49m\u001b[38;5;241;43m*\u001b[39;49m\u001b[38;5;241;43m*\u001b[39;49m\u001b[43mkwargs\u001b[49m\u001b[43m)\u001b[49m\n",
      "\u001b[0;31mFileNotFoundError\u001b[0m: [Errno 2] No such file or directory: 'julius_caesar.txt'"
     ]
    }
   ],
   "source": [
    "# your code here\n",
    "import string\n",
    "\n",
    "def read_and_count_words(file_path):\n",
    "    word_count = {}\n",
    "    with open(file_path, 'r', encoding='utf-8') as file:\n",
    "        for line in file:\n",
    "            # Remove punctuation and convert to lowercase\n",
    "            line = line.translate(str.maketrans('', '', string.punctuation)).lower()\n",
    "            words = line.split()\n",
    "            for word in words:\n",
    "                if word in word_count:\n",
    "                    word_count[word] += 1\n",
    "                else:\n",
    "                    word_count[word] = 1\n",
    "    return word_count\n",
    "\n",
    "def print_top_words(word_count, top_n=20):\n",
    "    # Sort words by frequency in descending order\n",
    "    sorted_words = sorted(word_count.items(), key=lambda x: x[1], reverse=True)\n",
    "    for word, count in sorted_words[:top_n]:\n",
    "        print(f\"{word:20} {count}\")\n",
    "\n",
    "def print_histogram(word_count, top_n=20):\n",
    "    sorted_words = sorted(word_count.items(), key=lambda x: x[1], reverse=True)\n",
    "    for word, count in sorted_words[:top_n]:\n",
    "        print(f\"{word:20} {'#' * (count // 10)}\")\n",
    "\n",
    "# Specify the path to your text file\n",
    "file_path = 'julius_caesar.txt'\n",
    "\n",
    "# Process the file\n",
    "word_count = read_and_count_words(file_path)\n",
    "\n",
    "# Print top words and their counts\n",
    "print_top_words(word_count)\n",
    "\n",
    "# Print a histogram\n",
    "print_histogram(word_count)\n"
   ]
  },
  {
   "cell_type": "markdown",
   "metadata": {},
   "source": [
    "Now here is where the iterative nature of dictionaries can be used to our benefit. We sort the worddict, using the function `worddict.get` to provide the values, which are the counts."
   ]
  },
  {
   "cell_type": "code",
   "execution_count": 2,
   "metadata": {},
   "outputs": [
    {
     "ename": "NameError",
     "evalue": "name 'worddict' is not defined",
     "output_type": "error",
     "traceback": [
      "\u001b[0;31m---------------------------------------------------------------------------\u001b[0m",
      "\u001b[0;31mNameError\u001b[0m                                 Traceback (most recent call last)",
      "Cell \u001b[0;32mIn[2], line 1\u001b[0m\n\u001b[0;32m----> 1\u001b[0m topwords \u001b[38;5;241m=\u001b[39m \u001b[38;5;28msorted\u001b[39m(\u001b[43mworddict\u001b[49m, key \u001b[38;5;241m=\u001b[39m worddict\u001b[38;5;241m.\u001b[39mget, reverse\u001b[38;5;241m=\u001b[39m\u001b[38;5;28;01mTrue\u001b[39;00m)\n",
      "\u001b[0;31mNameError\u001b[0m: name 'worddict' is not defined"
     ]
    }
   ],
   "source": [
    "topwords = sorted(worddict, key = worddict.get, reverse=True)"
   ]
  },
  {
   "cell_type": "code",
   "execution_count": 3,
   "metadata": {},
   "outputs": [
    {
     "ename": "NameError",
     "evalue": "name 'topwords' is not defined",
     "output_type": "error",
     "traceback": [
      "\u001b[0;31m---------------------------------------------------------------------------\u001b[0m",
      "\u001b[0;31mNameError\u001b[0m                                 Traceback (most recent call last)",
      "Cell \u001b[0;32mIn[3], line 1\u001b[0m\n\u001b[0;32m----> 1\u001b[0m \u001b[38;5;28;01mfor\u001b[39;00m word \u001b[38;5;129;01min\u001b[39;00m \u001b[43mtopwords\u001b[49m[:\u001b[38;5;241m20\u001b[39m]:\n\u001b[1;32m      2\u001b[0m     \u001b[38;5;28mprint\u001b[39m(word, worddict[word])\n",
      "\u001b[0;31mNameError\u001b[0m: name 'topwords' is not defined"
     ]
    }
   ],
   "source": [
    "for word in topwords[:20]:\n",
    "    print(word, worddict[word])"
   ]
  },
  {
   "cell_type": "markdown",
   "metadata": {},
   "source": [
    "You can even make a hacky histogram for this by creating a '#' for every 10 occurences"
   ]
  },
  {
   "cell_type": "code",
   "execution_count": 5,
   "metadata": {},
   "outputs": [],
   "source": [
    "for word in topwords[:20]:\n",
    "    print(word+(20 - len(word))*' ', (worddict[word]//10)*'*')"
   ]
  },
  {
   "cell_type": "markdown",
   "metadata": {},
   "source": [
    "## EXERCISE 2: Simulate a Bank Account"
   ]
  },
  {
   "cell_type": "code",
   "execution_count": 4,
   "metadata": {},
   "outputs": [],
   "source": [
    "class BankAccount:\n",
    "    def __init__(self, balance):\n",
    "        self.balance = balance\n",
    "        \n",
    "    def withdraw(self, amount):\n",
    "        self.balance = self.balance - amount"
   ]
  },
  {
   "cell_type": "code",
   "execution_count": 5,
   "metadata": {},
   "outputs": [
    {
     "name": "stdout",
     "output_type": "stream",
     "text": [
      "100\n"
     ]
    },
    {
     "data": {
      "text/plain": [
       "80"
      ]
     },
     "execution_count": 5,
     "metadata": {},
     "output_type": "execute_result"
    }
   ],
   "source": [
    "myaccount = BankAccount(100)\n",
    "print(myaccount.balance)\n",
    "myaccount.withdraw(20)\n",
    "myaccount.balance"
   ]
  },
  {
   "cell_type": "markdown",
   "metadata": {},
   "source": [
    "Python supports inheritance. Indeed, in python, all classes inherit from object, which means that they all get some attributes and methods from object.\n",
    "\n",
    "What is inheritance, more precisely? In inheritance an object is based on another object. When inheritance is implemented, the methods and attributes that were defined in the base class will also be present in the inherited class. This is generally done to abstract away similar code in multiple classes. The abstracted code will reside in the base class and the previous classes will now inherit from the base class.\n",
    "\n",
    "Let's look at an example of inheritance. In the following example, Rocket is the base class and MarsRover is the inherited class. Notice the string interpolation in the formatting as well."
   ]
  },
  {
   "cell_type": "code",
   "execution_count": 6,
   "metadata": {},
   "outputs": [],
   "source": [
    "class Rocket:\n",
    "    def __init__(self, name, distance):\n",
    "        self.name = name\n",
    "        self.distance = distance\n",
    "\n",
    "    def launch(self):\n",
    "        return \"%s has reached %s\" % (self.name, self.distance)\n",
    "    \n",
    "    def get_maker(self):\n",
    "        return \"%s Launched\" % self.name\n",
    "\n",
    "\n",
    "class MarsRover(Rocket): # inheriting from the base class\n",
    "    def __init__(self, name, distance, maker):\n",
    "        Rocket.__init__(self, name, distance)\n",
    "        self.maker = maker\n",
    "\n",
    "    def get_maker(self):\n",
    "        return \"%s Launched by %s\" % (self.name, self.maker)"
   ]
  },
  {
   "cell_type": "code",
   "execution_count": 7,
   "metadata": {},
   "outputs": [
    {
     "name": "stdout",
     "output_type": "stream",
     "text": [
      "Simple rocket has reached till stratosphere\n",
      "Mangalyaan has reached till Mars\n",
      "Simple rocket Launched\n",
      "Mangalyaan Launched by ISRO\n"
     ]
    }
   ],
   "source": [
    "x = Rocket(\"Simple rocket\", \"till stratosphere\")\n",
    "y = MarsRover(\"Mangalyaan\", \"till Mars\", \"ISRO\")\n",
    "print(x.launch())\n",
    "print(y.launch()) # dispatches to Ricket's launch\n",
    "print(x.get_maker())\n",
    "print(y.get_maker())"
   ]
  },
  {
   "cell_type": "markdown",
   "metadata": {},
   "source": [
    "`launch` is not defined by the derived class `MarsRover` so the `launch` for instance `y` is used from `Rocket`. On the other hand, `MarsRover` defines a new `get_maker` so that overrides the one from `Rocket`. Thus inheritance can be used to share functionality when needed and diversify when not."
   ]
  },
  {
   "cell_type": "markdown",
   "metadata": {},
   "source": [
    "Define an error checking bank account `ECBankAccount` which inherits from `BankAccount` but will not allow overdraws. If there is an overdraw raise a `ValueError` with a message \"Withdrawal Not Allowed\": read up on this. Create two accounts one regular and one he derived class instance and wihdraw more than the balance from both."
   ]
  },
  {
   "cell_type": "code",
   "execution_count": 12,
   "metadata": {},
   "outputs": [
    {
     "name": "stdout",
     "output_type": "stream",
     "text": [
      "Regular Account:\n",
      "Initial Balance: 100\n",
      "After Withdrawal: 80\n",
      "\n",
      "Error-Checking Account:\n",
      "Initial Balance: 100\n",
      "After Valid Withdrawal: 80\n",
      "Withdrawal Not Allowed\n"
     ]
    }
   ],
   "source": [
    "# youe code here\n",
    "class BankAccount:\n",
    "    def __init__(self, balance):\n",
    "        self.balance = balance\n",
    "\n",
    "    def withdraw(self, amount):\n",
    "        self.balance -= amount\n",
    "\n",
    "class ECBankAccount(BankAccount):\n",
    "    def withdraw(self, amount):\n",
    "        if self.balance - amount < 0:\n",
    "            raise ValueError(\"Withdrawal Not Allowed\")\n",
    "        self.balance -= amount\n",
    "\n",
    "# Create instances of both the regular and error-checking bank accounts\n",
    "regular_account = BankAccount(100)\n",
    "ec_account = ECBankAccount(100)\n",
    "\n",
    "# Test the regular account\n",
    "print(\"Regular Account:\")\n",
    "print(\"Initial Balance:\", regular_account.balance)\n",
    "regular_account.withdraw(20)\n",
    "print(\"After Withdrawal:\", regular_account.balance)\n",
    "\n",
    "# Test the error-checking account with a valid withdrawal\n",
    "print(\"\\nError-Checking Account:\")\n",
    "print(\"Initial Balance:\", ec_account.balance)\n",
    "ec_account.withdraw(20)\n",
    "print(\"After Valid Withdrawal:\", ec_account.balance)\n",
    "\n",
    "# Test the error-checking account with an invalid withdrawal (overdraft attempt)\n",
    "try:\n",
    "    ec_account.withdraw(120)\n",
    "except ValueError as e:\n",
    "    print(str(e))\n"
   ]
  },
  {
   "cell_type": "code",
   "execution_count": 13,
   "metadata": {},
   "outputs": [
    {
     "data": {
      "text/plain": [
       "-20"
      ]
     },
     "execution_count": 13,
     "metadata": {},
     "output_type": "execute_result"
    }
   ],
   "source": [
    "x = BankAccount(100)\n",
    "x.withdraw(120)\n",
    "x.balance"
   ]
  },
  {
   "cell_type": "code",
   "execution_count": 14,
   "metadata": {},
   "outputs": [
    {
     "ename": "ValueError",
     "evalue": "Withdrawal Not Allowed",
     "output_type": "error",
     "traceback": [
      "\u001b[0;31m---------------------------------------------------------------------------\u001b[0m",
      "\u001b[0;31mValueError\u001b[0m                                Traceback (most recent call last)",
      "Cell \u001b[0;32mIn[14], line 2\u001b[0m\n\u001b[1;32m      1\u001b[0m y \u001b[38;5;241m=\u001b[39m ECBankAccount(\u001b[38;5;241m100\u001b[39m)\n\u001b[0;32m----> 2\u001b[0m \u001b[43my\u001b[49m\u001b[38;5;241;43m.\u001b[39;49m\u001b[43mwithdraw\u001b[49m\u001b[43m(\u001b[49m\u001b[38;5;241;43m120\u001b[39;49m\u001b[43m)\u001b[49m\n",
      "Cell \u001b[0;32mIn[12], line 12\u001b[0m, in \u001b[0;36mECBankAccount.withdraw\u001b[0;34m(self, amount)\u001b[0m\n\u001b[1;32m     10\u001b[0m \u001b[38;5;28;01mdef\u001b[39;00m \u001b[38;5;21mwithdraw\u001b[39m(\u001b[38;5;28mself\u001b[39m, amount):\n\u001b[1;32m     11\u001b[0m     \u001b[38;5;28;01mif\u001b[39;00m \u001b[38;5;28mself\u001b[39m\u001b[38;5;241m.\u001b[39mbalance \u001b[38;5;241m-\u001b[39m amount \u001b[38;5;241m<\u001b[39m \u001b[38;5;241m0\u001b[39m:\n\u001b[0;32m---> 12\u001b[0m         \u001b[38;5;28;01mraise\u001b[39;00m \u001b[38;5;167;01mValueError\u001b[39;00m(\u001b[38;5;124m\"\u001b[39m\u001b[38;5;124mWithdrawal Not Allowed\u001b[39m\u001b[38;5;124m\"\u001b[39m)\n\u001b[1;32m     13\u001b[0m     \u001b[38;5;28mself\u001b[39m\u001b[38;5;241m.\u001b[39mbalance \u001b[38;5;241m-\u001b[39m\u001b[38;5;241m=\u001b[39m amount\n",
      "\u001b[0;31mValueError\u001b[0m: Withdrawal Not Allowed"
     ]
    }
   ],
   "source": [
    "y = ECBankAccount(100)\n",
    "y.withdraw(120)"
   ]
  },
  {
   "cell_type": "code",
   "execution_count": 15,
   "metadata": {},
   "outputs": [
    {
     "data": {
      "text/plain": [
       "100"
      ]
     },
     "execution_count": 15,
     "metadata": {},
     "output_type": "execute_result"
    }
   ],
   "source": [
    "y.balance"
   ]
  }
 ],
 "metadata": {
  "kernelspec": {
   "display_name": "Python 3 (ipykernel)",
   "language": "python",
   "name": "python3"
  },
  "language_info": {
   "codemirror_mode": {
    "name": "ipython",
    "version": 3
   },
   "file_extension": ".py",
   "mimetype": "text/x-python",
   "name": "python",
   "nbconvert_exporter": "python",
   "pygments_lexer": "ipython3",
   "version": "3.12.3"
  }
 },
 "nbformat": 4,
 "nbformat_minor": 4
}
