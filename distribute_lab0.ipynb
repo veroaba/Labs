{
 "cells": [
  {
   "cell_type": "markdown",
   "metadata": {},
   "source": [
    "# Lab 0: Basic Python, Functions, Lists, Strings, and Files"
   ]
  },
  {
   "cell_type": "markdown",
   "metadata": {
    "colab_type": "text",
    "id": "NrzmeT7EcAZB"
   },
   "source": [
    "## EXERCISE 1: A Simple Calculator\n",
    "\n",
    "Here is a fun little calculator which exercises what you have learnt so far.\n",
    "\n",
    "It has only 4 operations - Addition, Subtraction, Multiplication and Divison\n",
    "\n",
    "Notice the use of no-operation `pass`. It allows us to incrementally code by doing nothing to start, and put in functionality over time."
   ]
  },
  {
   "cell_type": "code",
   "execution_count": 8,
   "metadata": {},
   "outputs": [
    {
     "name": "stdout",
     "output_type": "stream",
     "text": [
      "Select operation\n",
      "\n",
      "1.Addition\n",
      "2.Subtraction\n",
      "3.Multiplication\n",
      "4.Division\n"
     ]
    },
    {
     "name": "stdin",
     "output_type": "stream",
     "text": [
      "\n",
      "Enter choice(1/2/3/4):  4 + 2\n",
      "\n",
      "Enter first number:  4\n",
      "\n",
      "Enter second number:  2\n"
     ]
    },
    {
     "name": "stdout",
     "output_type": "stream",
     "text": [
      "1.Addition\n",
      "2.Subtraction\n",
      "3.Multiplication\n",
      "4.Division\n"
     ]
    },
    {
     "name": "stdin",
     "output_type": "stream",
     "text": [
      "\n",
      "Enter choice(1/2/3/4):  2\n",
      "\n",
      "Enter first number:  3\n",
      "\n",
      "Enter second number:  1\n"
     ]
    },
    {
     "name": "stdout",
     "output_type": "stream",
     "text": [
      "3.0 - 1.0 = 2.0\n"
     ]
    }
   ],
   "source": [
    "print(\"Select operation\\n\")\n",
    "print(\"1.Addition\")\n",
    "print(\"2.Subtraction\")\n",
    "print(\"3.Multiplication\")\n",
    "print(\"4.Division\")\n",
    "\n",
    "# Something NEW: Take input from the user \n",
    "choice = input(\"\\nEnter choice(1/2/3/4): \")\n",
    "\n",
    "# We convert the input to a floating-pount(or real) number.\n",
    "\n",
    "num1 = float(input(\"\\nEnter first number: \"))\n",
    "num2 = float(input(\"\\nEnter second number: \"))\n",
    "\n",
    "if choice == '1':\n",
    "    # your code here\n",
    "\n",
    "    print(\"Select operation\\n\")\n",
    "print(\"1.Addition\")\n",
    "print(\"2.Subtraction\")\n",
    "print(\"3.Multiplication\")\n",
    "print(\"4.Division\")\n",
    "\n",
    "choice = input(\"\\nEnter choice(1/2/3/4): \")\n",
    "\n",
    "# We convert the input to a floating-point number.\n",
    "num1 = float(input(\"\\nEnter first number: \"))\n",
    "num2 = float(input(\"\\nEnter second number: \"))\n",
    "\n",
    "if choice == '1':\n",
    "    # Addition\n",
    "    print(f\"{num1} + {num2} = {num1 + num2}\")\n",
    "elif choice == '2':\n",
    "    # Subtraction\n",
    "    print(f\"{num1} - {num2} = {num1 - num2}\")\n",
    "elif choice == '3':\n",
    "    # Multiplication\n",
    "    print(f\"{num1} * {num2} = {num1 * num2}\")\n",
    "elif choice == '4':\n",
    "    # Division\n",
    "    if num2 != 0:\n",
    "        print(f\"{num1} / {num2} = {num1 / num2}\")\n",
    "    else:\n",
    "        print(\"Division by zero is not allowed.\")\n",
    "else:\n",
    "    print(\"Invalid choice. Please select a valid operation.\")\n",
    "\n"
   ]
  },
  {
   "cell_type": "markdown",
   "metadata": {},
   "source": [
    "## EXERCISE 2: List like objects and functions on them\n",
    "\n",
    "Materialize lists using \n",
    "\n",
    "1. `range(50)`\n",
    "2. The function application `enumerate(list of alphabets)`\n",
    "3. Write your own enumerate function for a list using the function `zip`."
   ]
  },
  {
   "cell_type": "code",
   "execution_count": 1,
   "metadata": {},
   "outputs": [
    {
     "name": "stdout",
     "output_type": "stream",
     "text": [
      "[0, 1, 2, 3, 4, 5, 6, 7, 8, 9, 10, 11, 12, 13, 14, 15, 16, 17, 18, 19, 20, 21, 22, 23, 24, 25, 26, 27, 28, 29, 30, 31, 32, 33, 34, 35, 36, 37, 38, 39, 40, 41, 42, 43, 44, 45, 46, 47, 48, 49]\n"
     ]
    }
   ],
   "source": [
    "# your code here\n",
    "\n",
    "# Creating a list of numbers from 0 to 49\n",
    "list_from_range = list(range(50))\n",
    "print(list_from_range)\n",
    "\n"
   ]
  },
  {
   "cell_type": "code",
   "execution_count": 2,
   "metadata": {},
   "outputs": [
    {
     "name": "stdout",
     "output_type": "stream",
     "text": [
      "[(0, 'a'), (1, 'b'), (2, 'c'), (3, 'd'), (4, 'e'), (5, 'f'), (6, 'g'), (7, 'h'), (8, 'i'), (9, 'j'), (10, 'k'), (11, 'l'), (12, 'm'), (13, 'n'), (14, 'o'), (15, 'p'), (16, 'q'), (17, 'r'), (18, 's'), (19, 't'), (20, 'u'), (21, 'v'), (22, 'w'), (23, 'x'), (24, 'y'), (25, 'z')]\n"
     ]
    }
   ],
   "source": [
    "# your code here\n",
    "# List of alphabets\n",
    "alphabets = ['a', 'b', 'c', 'd', 'e', 'f', 'g', 'h', 'i', 'j', 'k', 'l', 'm', 'n', 'o', 'p', 'q', 'r', 's', 't', 'u', 'v', 'w', 'x', 'y', 'z']\n",
    "\n",
    "# Using enumerate to get index and value\n",
    "indexed_alphabets = list(enumerate(alphabets))\n",
    "print(indexed_alphabets)\n"
   ]
  },
  {
   "cell_type": "code",
   "execution_count": 3,
   "metadata": {},
   "outputs": [
    {
     "name": "stdout",
     "output_type": "stream",
     "text": [
      "[(0, 'a'), (1, 'b'), (2, 'c'), (3, 'd'), (4, 'e'), (5, 'f'), (6, 'g'), (7, 'h'), (8, 'i'), (9, 'j'), (10, 'k'), (11, 'l'), (12, 'm'), (13, 'n'), (14, 'o'), (15, 'p'), (16, 'q'), (17, 'r'), (18, 's'), (19, 't'), (20, 'u'), (21, 'v'), (22, 'w'), (23, 'x'), (24, 'y'), (25, 'z')]\n"
     ]
    }
   ],
   "source": [
    "# your code here\n",
    "# Function to mimic enumerate using zip\n",
    "def my_enumerate(iterable, start=0):\n",
    "    return zip(range(start, start + len(iterable)), iterable)\n",
    "\n",
    "# Example usage with alphabets\n",
    "my_indexed_alphabets = list(my_enumerate(alphabets))\n",
    "print(my_indexed_alphabets)\n"
   ]
  },
  {
   "cell_type": "markdown",
   "metadata": {
    "colab_type": "text",
    "id": "rUe6oWVsvj12"
   },
   "source": [
    "## EXERCISE 3: Count the special characters\n",
    "\n",
    "Consider the string \"HelloWorld,123,ThisIsUniv.Ai\" (not including the quotes). Find the number of uppercase, lowercase, special character and numerical characters.\n"
   ]
  },
  {
   "cell_type": "code",
   "execution_count": 5,
   "metadata": {},
   "outputs": [
    {
     "name": "stdout",
     "output_type": "stream",
     "text": [
      "Number of uppercase characters: 6\n",
      "Number of lowercase characters: 16\n",
      "Number of numerical characters: 3\n",
      "Number of special characters: 3\n"
     ]
    }
   ],
   "source": [
    "my_string = \"HelloWorld,123,ThisIsUniv.Ai\"\n",
    "# your code here\n",
    "import string\n",
    "\n",
    "my_string = \"HelloWorld,123,ThisIsUniv.Ai\"\n",
    "\n",
    "# Counting uppercase, lowercase, digits, and special characters\n",
    "uppercase_count = sum(1 for char in my_string if char in string.ascii_uppercase)\n",
    "lowercase_count = sum(1 for char in my_string if char in string.ascii_lowercase)\n",
    "digit_count = sum(1 for char in my_string if char.isdigit())\n",
    "special_char_count = sum(1 for char in my_string if char in string.punctuation)\n",
    "\n",
    "print(\"Number of uppercase characters:\", uppercase_count)\n",
    "print(\"Number of lowercase characters:\", lowercase_count)\n",
    "print(\"Number of numerical characters:\", digit_count)\n",
    "print(\"Number of special characters:\", special_char_count)\n"
   ]
  },
  {
   "cell_type": "markdown",
   "metadata": {},
   "source": [
    "## EXERCISE 4: Read a file and parse words from it\n",
    "\n",
    "Read Julius Caesar. Get each line. Remove newline characters from each line. Split the line to get the words from the line. Lowercase them. Print the first 1000 words, lowercased."
   ]
  },
  {
   "cell_type": "code",
   "execution_count": 7,
   "metadata": {},
   "outputs": [
    {
     "name": "stdout",
     "output_type": "stream",
     "text": [
      "['<!doctype', 'html>', '<html', 'lang=\"en\"><head><meta', 'charset=\"utf-8\"><style>', '#pg-header', 'div,', '#pg-footer', 'div', '{', 'all:', 'initial;', 'display:', 'block;', 'margin-top:', '1em;', 'margin-bottom:', '1em;', 'margin-left:', '2em;', '}', '#pg-footer', 'div.agate', '{', 'font-size:', '90%;', 'margin-top:', '0;', 'margin-bottom:', '0;', 'text-align:', 'center;', '}', '#pg-footer', 'li', '{', 'all:', 'initial;', 'display:', 'block;', 'margin-top:', '1em;', 'margin-bottom:', '1em;', 'text-indent:', '-0.6em;', '}', '#pg-footer', 'div.secthead', '{', 'font-size:', '110%;', 'font-weight:', 'bold;', '}', '#pg-footer', '#project-gutenberg-license', '{', 'font-size:', '110%;', 'margin-top:', '0;', 'margin-bottom:', '0;', 'text-align:', 'center;', '}', '#pg-header-heading', '{', 'all:', 'inherit;', 'text-align:', 'center;', 'font-size:', '120%;', 'font-weight:bold;', '}', '#pg-footer-heading', '{', 'all:', 'inherit;', 'text-align:', 'center;', 'font-size:', '120%;', 'font-weight:', 'normal;', 'margin-top:', '0;', 'margin-bottom:', '0;', '}', '#pg-header', '#pg-machine-header', 'p', '{', 'text-indent:', '-4em;', 'margin-left:', '4em;', 'margin-top:', '1em;', 'margin-bottom:', '0;', 'font-size:', 'medium', '}', '#pg-header', '#pg-header-authlist', '{', 'all:', 'initial;', 'margin-top:', '0;', 'margin-bottom:', '0;', '}', '#pg-header', '#pg-machine-header', 'strong', '{', 'font-weight:', 'normal;', '}', '#pg-header', '#pg-start-separator,', '#pg-footer', '#pg-end-separator', '{', 'margin-bottom:', '3em;', 'margin-left:', '0;', 'margin-right:', 'auto;', 'margin-top:', '2em;', 'text-align:', 'center', '}', '.xhtml_center', '{text-align:', 'center;', 'display:', 'block;}', '.xhtml_center', 'table', '{', 'display:', 'table;', 'text-align:', 'left;', 'margin-left:', 'auto;', 'margin-right:', 'auto;', '}</style><title>the', 'project', 'gutenberg', 'ebook', 'of', 'julius', 'caesar,', 'by', 'william', 'shakespeare</title><style>/*', '************************************************************************', '*', 'classless', 'css', 'copied', 'from', 'https://www.pgdp.net/wiki/css_cookbook/styles', '*', '**********************************************************************', '*/', '/*', '************************************************************************', '*', 'set', 'the', 'body', 'margins', 'to', 'allow', 'whitespace', 'along', 'sides', 'of', 'window', '*', '**********************************************************************', '*/', 'body', '{', 'margin-left:', '8%;', 'width:', '85%;', '/*', '==', 'margin-left:7%', '*/', '}', '/*', '************************************************************************', '*', 'set', 'the', 'indention,', 'spacing,', 'and', 'leading', 'for', 'body', 'paragraphs.', '*', '**********************************************************************', '*/', 'p', '{', '/*', 'all', 'paragraphs', 'unless', 'overridden', '*/', 'margin-top:', '1em;', '/*', 'inter-paragraph', 'space', '*/', 'margin-bottom:', '0;', '/*', 'use', 'only', 'top-margin', 'for', 'spacing', '*/', 'line-height:', '1.4em;', '/*', 'interline', 'spacing', '(\"leading\")', '*/', '}', 'body', '>', 'p', '{', '/*', 'paras', 'at', '<body>', 'level', '-', 'not', 'in', '<div>', 'or', '<table>', '*/', 'text-align:', 'justify;', '/*', 'or', 'left??', '*/', 'text-indent:', '1em;', '/*', 'first-line', 'indent', '*/', '}', '/*', 'suppress', 'indentation', 'on', 'paragraphs', 'following', 'heads', '*/', 'h2', '+', 'p,', 'h3', '+', 'p,', 'h4', '+', 'p', '{', 'text-indent:', '0', '}', '/*', 'tighter', 'spacing', 'for', 'list', 'item', 'paragraphs', '*/', 'dd,', 'li', '{', 'margin-top:', '0.25em;', 'margin-bottom:', '0;', 'line-height:', '1.2em;', '/*', 'a', 'bit', 'closer', 'than', \"p's\", '*/', '}', '/*', '************************************************************************', '*', 'head', '2', 'is', 'for', 'chapter', 'heads.', '*', '**********************************************************************', '*/', 'h2', '{', '/*', 'text-align:center;', 'left-aligned', 'by', 'default.', '*/', 'margin-top:', '3em;', '/*', 'extra', 'space', 'above..', '*/', 'margin-bottom:', '2em;', '/*', '..and', 'below', '*/', 'clear:', 'both;', '/*', \"don't\", 'let', 'sidebars', 'overlap', '*/', '}', '/*', '************************************************************************', '*', 'head', '3', 'is', 'for', 'main-topic', 'heads.', '*', '**********************************************************************', '*/', 'h3', '{', '/*', 'text-align:center;', 'left-aligned', 'by', 'default.', '*/', 'margin-top:', '2em;', '/*', 'extra', 'space', 'above', 'but', 'not', 'below', '*/', 'font-weight:', 'normal;', '/*', 'override', 'default', 'of', 'bold', '*/', 'clear:', 'both;', '/*', \"don't\", 'let', 'sidebars', 'overlap', '*/', '}', '/*', '************************************************************************', '*', 'styling', 'the', 'default', 'hr', 'and', 'some', 'special-purpose', 'ones.', '*', 'default', 'rule', 'centered', 'and', 'clear', 'of', 'floats;', 'sized', 'for', 'thought-breaks', '*', '**********************************************************************', '*/', 'hr', '{', 'width:', '45%;', '/*', 'adjust', 'to', 'ape', 'original', 'work', '*/', 'margin-top:', '1em;', '/*', 'space', 'above', '&', 'below', '*/', 'margin-bottom:', '1em;', 'margin-left:', 'auto;', '/*', 'these', 'two', 'ensure', 'a..', '*/', 'margin-right:', 'auto;', '/*', '..centered', 'rule', '*/', 'clear:', 'both;', '/*', \"don't\", 'let', 'sidebars', '&', 'floats', 'overlap', 'rule', '*/', '}', '/*', '************************************************************************', '*', 'images', 'and', 'captions', '*', '**********************************************************************', '*/', 'img', '{', '/*', 'the', 'default', 'inline', 'image', 'has', '*/', 'border:', '1px', 'solid', 'black;', '/*', 'a', 'thin', 'black', 'line', 'border..', '*/', 'padding:', '6px;', '/*', '..spaced', 'a', 'bit', 'out', 'from', 'the', 'graphic', '*/', '}</style><link', 'rel=\"schema.dc\"', 'href=\"http://purl.org/dc/elements/1.1/\">', '<link', 'rel=\"schema.dcterms\"', 'href=\"http://purl.org/dc/terms/\">', '<meta', 'name=\"dc.title\"', 'content=\"julius', 'caesar\">', '<meta', 'name=\"dc.language\"', 'content=\"en\">', '<meta', 'name=\"dcterms.source\"', 'content=\"https://www.gutenberg.org/files/1785/1785.txt\">', '<meta', 'name=\"dcterms.modified\"', 'content=\"2024-05-01t14:58:55.546238+00:00\">', '<meta', 'name=\"dc.rights\"', 'content=\"public', 'domain', 'in', 'the', 'usa.\">', '<link', 'rel=\"dcterms.isformatof\"', 'href=\"http://www.gutenberg.org/ebooks/1785\">', '<meta', 'name=\"dc.creator\"', 'content=\"shakespeare,', 'william,', '1564-1616\">', '<meta', 'name=\"dc.subject\"', 'content=\"tragedies\">', '<meta', 'name=\"dc.subject\"', 'content=\"conspiracies', '--', 'drama\">', '<meta', 'name=\"dc.subject\"', 'content=\"brutus,', 'marcus', 'junius,', '85', 'b.c.?-42', 'b.c.', '--', 'drama\">', '<meta', 'name=\"dc.subject\"', 'content=\"caesar,', 'julius', '--', 'assassination', '--', 'drama\">', '<meta', 'name=\"dc.subject\"', 'content=\"assassins', '--', 'drama\">', '<meta', 'name=\"dc.subject\"', 'content=\"rome', '--', 'history', '--', 'civil', 'war,', '43-31', 'b.c.', '--', 'drama\">', '<meta', 'name=\"dcterms.created\"', 'content=\"1999-06-01\">', '<meta', 'name=\"generator\"', 'content=\"ebookmaker', '0.12.42', 'by', 'project', 'gutenberg\">', '<meta', 'property=\"og:title\"', 'content=\"julius', 'caesar\">', '<meta', 'property=\"og:type\"', 'content=\"text\">', '<meta', 'property=\"og:url\"', 'content=\"https://www.gutenberg.org/ebooks/1785/pg1785.html\">', '<meta', 'property=\"og:image\"', 'content=\"https://www.gutenberg.org/ebooks/1785/pg1785.cover.medium.jpg\">', '</head><body><section', 'class=\"pg-boilerplate', 'pgheader\"', 'id=\"pg-header\"', 'lang=\"en\"><h2', 'id=\"pg-header-heading\"', 'title=\"\">the', 'project', 'gutenberg', 'ebook', 'of', '<span', 'lang=\"en\"', 'id=\"pg-title-no-subtitle\">julius', 'caesar</span></h2>', '<div>this', 'ebook', 'is', 'for', 'the', 'use', 'of', 'anyone', 'anywhere', 'in', 'the', 'united', 'states', 'and', 'most', 'other', 'parts', 'of', 'the', 'world', 'at', 'no', 'cost', 'and', 'with', 'almost', 'no', 'restrictions', 'whatsoever.', 'you', 'may', 'copy', 'it,', 'give', 'it', 'away', 'or', 're-use', 'it', 'under', 'the', 'terms', 'of', 'the', 'project', 'gutenberg', 'license', 'included', 'with', 'this', 'ebook', 'or', 'online', 'at', '<a', 'class=\"reference', 'external\"', 'href=\"https://www.gutenberg.org\">www.gutenberg.org</a>.', 'if', 'you', 'are', 'not', 'located', 'in', 'the', 'united', 'states,', 'you', 'will', 'have', 'to', 'check', 'the', 'laws', 'of', 'the', 'country', 'where', 'you', 'are', 'located', 'before', 'using', 'this', 'ebook.</div>', '<div', 'class=\"container\"', 'id=\"pg-machine-header\"><p><strong>title</strong>:', 'julius', 'caesar</p>', '<div', 'id=\"pg-header-authlist\">', '<p><strong>author</strong>:', 'william', 'shakespeare</p>', '</div>', '<p><strong>release', 'date</strong>:', 'june', '1,', '1999', '[ebook', '#1785]<br>', 'most', 'recently', 'updated:', 'may', '22,', '2019</p>', '<p><strong>language</strong>:', 'english</p>', '</div><div', 'id=\"pg-start-separator\">', '<span>***', 'start', 'of', 'the', 'project', 'gutenberg', 'ebook', 'julius', 'caesar', '***</span>', '</div></section><p', 'id=\"id00000\">*******************************************************************</p>', '<p', 'id=\"id00001\"', 'style=\"margin-top:', '2em\">this', 'ebook', 'was', 'one', 'of', 'project', \"gutenberg's\", 'early', 'files', 'produced', 'at', 'a', 'time', 'when', 'proofing', 'methods', 'and', 'tools', 'were', 'not', 'well', 'developed.', 'there', 'is', 'an', 'improved', 'edition', 'of', 'this', 'title', 'which', 'may', 'be', 'viewed', 'as', 'ebook', '(#1522)', 'at', 'https://www.gutenberg.org/ebooks/1522', '*******************************************************************</p>', '<p', 'id=\"id00002\"', 'style=\"margin-top:', '4em\">this', 'etext', 'file', 'is', 'presented', 'by', 'project', 'gutenberg,', 'in<br>', 'cooperation', 'with', 'world', 'library,', 'inc.,', 'from', 'their', 'library', 'of', 'the<br>', 'future', 'and', 'shakespeare', 'cdroms.', 'project', 'gutenberg', 'often', 'releases<br>', 'etexts', 'that', 'are', 'not', 'placed', 'in', 'the', 'public', 'domain!!<br>', '</p>', '<p', 'id=\"id00003\">*this', 'etext', 'has', 'certain', 'copyright', 'implications', 'you', 'should', 'read!*</p>', '<p', 'id=\"id00004\">&lt;&lt;this', 'electronic', 'version', 'of', 'the', 'complete', 'works', 'of', 'william<br>', 'shakespeare', 'is', 'copyright', '1990-1993', 'by', 'world', 'library,', 'inc.,', 'and', 'is<br>', 'provided', 'by', 'project', 'gutenberg', 'with', 'permission.', 'electronic', 'and<br>', 'machine', 'readable', 'copies', 'may', 'be', 'distributed', 'so', 'long', 'as', 'such', 'copies<br>', '(1)', 'are', 'for', 'your', 'or', 'others', 'personal', 'use', 'only,', 'and', '(2)', 'are', 'not<br>', 'distributed', 'or', 'used', 'commercially.', 'prohibited', 'commercial<br>', 'distribution', 'includes', 'by', 'any', 'service', 'that', 'charges', 'for', 'download<br>', 'time', 'or', 'for', 'membership.&gt;&gt;<br>', '</p>', '<p', 'id=\"id00005\">*project', 'gutenberg', 'is', 'proud', 'to', 'cooperate', 'with', 'the', 'world', 'library*', 'in', 'the', 'presentation', 'of', 'the', 'complete', 'works', 'of', 'william', 'shakespeare', 'for', 'your', 'reading', 'for', 'education', 'and', 'entertainment.', 'however,', 'this', 'is', 'neither', 'shareware', 'nor', 'public', 'domain.', '.', '.and', 'under', 'the', 'library', 'of', 'the', 'future', 'conditions', 'of', 'this', 'presentation.', '.', '.no', 'charges', 'may', 'be', 'made', 'for', '*any*', 'access', 'to', 'this', 'material.', 'you', 'are', 'encouraged!!', 'to', 'give', 'it', 'away', 'to', 'anyone']\n"
     ]
    }
   ],
   "source": [
    "# your code here\n",
    "def read_and_process_file(file_path):\n",
    "    words = []\n",
    "    with open(file_path, 'r', encoding='utf-8') as file:\n",
    "        for line in file:\n",
    "            # Remove newline characters and any unwanted punctuation, then lowercase the line\n",
    "            cleaned_line = line.strip().lower()\n",
    "            # Split the line into words\n",
    "            words_in_line = cleaned_line.split()\n",
    "            # Extend the list of words with the words from this line\n",
    "            words.extend(words_in_line)\n",
    "            # Stop if we have 1000 words\n",
    "            if len(words) >= 1000:\n",
    "                break\n",
    "    return words[:1000]\n",
    "\n",
    "# Specify the path to your text file (you would replace 'julius_caesar.txt' with the actual path)\n",
    "file_path = 'julius_caesar.text'\n",
    "first_1000_words = read_and_process_file(file_path)\n",
    "print(first_1000_words)\n"
   ]
  },
  {
   "cell_type": "code",
   "execution_count": null,
   "metadata": {},
   "outputs": [],
   "source": []
  }
 ],
 "metadata": {
  "kernelspec": {
   "display_name": "Python 3 (ipykernel)",
   "language": "python",
   "name": "python3"
  },
  "language_info": {
   "codemirror_mode": {
    "name": "ipython",
    "version": 3
   },
   "file_extension": ".py",
   "mimetype": "text/x-python",
   "name": "python",
   "nbconvert_exporter": "python",
   "pygments_lexer": "ipython3",
   "version": "3.12.3"
  }
 },
 "nbformat": 4,
 "nbformat_minor": 4
}
