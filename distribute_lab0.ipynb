{
 "cells": [
  {
   "cell_type": "markdown",
   "metadata": {},
   "source": [
    "# Lab 0: Basic Python, Functions, Lists, Strings, and Files"
   ]
  },
  {
   "cell_type": "markdown",
   "metadata": {
    "colab_type": "text",
    "id": "NrzmeT7EcAZB"
   },
   "source": [
    "## EXERCISE 1: A Simple Calculator\n",
    "\n",
    "Here is a fun little calculator which exercises what you have learnt so far.\n",
    "\n",
    "It has only 4 operations - Addition, Subtraction, Multiplication and Divison\n",
    "\n",
    "Notice the use of no-operation `pass`. It allows us to incrementally code by doing nothing to start, and put in functionality over time."
   ]
  },
  {
   "cell_type": "code",
   "execution_count": 8,
   "metadata": {},
   "outputs": [
    {
     "name": "stdout",
     "output_type": "stream",
     "text": [
      "Select operation\n",
      "\n",
      "1.Addition\n",
      "2.Subtraction\n",
      "3.Multiplication\n",
      "4.Division\n"
     ]
    },
    {
     "name": "stdin",
     "output_type": "stream",
     "text": [
      "\n",
      "Enter choice(1/2/3/4):  4 + 2\n",
      "\n",
      "Enter first number:  4\n",
      "\n",
      "Enter second number:  2\n"
     ]
    },
    {
     "name": "stdout",
     "output_type": "stream",
     "text": [
      "1.Addition\n",
      "2.Subtraction\n",
      "3.Multiplication\n",
      "4.Division\n"
     ]
    },
    {
     "name": "stdin",
     "output_type": "stream",
     "text": [
      "\n",
      "Enter choice(1/2/3/4):  2\n",
      "\n",
      "Enter first number:  3\n",
      "\n",
      "Enter second number:  1\n"
     ]
    },
    {
     "name": "stdout",
     "output_type": "stream",
     "text": [
      "3.0 - 1.0 = 2.0\n"
     ]
    }
   ],
   "source": [
    "print(\"Select operation\\n\")\n",
    "print(\"1.Addition\")\n",
    "print(\"2.Subtraction\")\n",
    "print(\"3.Multiplication\")\n",
    "print(\"4.Division\")\n",
    "\n",
    "# Something NEW: Take input from the user \n",
    "choice = input(\"\\nEnter choice(1/2/3/4): \")\n",
    "\n",
    "# We convert the input to a floating-pount(or real) number.\n",
    "\n",
    "num1 = float(input(\"\\nEnter first number: \"))\n",
    "num2 = float(input(\"\\nEnter second number: \"))\n",
    "\n",
    "if choice == '1':\n",
    "    # your code here\n",
    "\n",
    "    print(\"Select operation\\n\")\n",
    "print(\"1.Addition\")\n",
    "print(\"2.Subtraction\")\n",
    "print(\"3.Multiplication\")\n",
    "print(\"4.Division\")\n",
    "\n",
    "choice = input(\"\\nEnter choice(1/2/3/4): \")\n",
    "\n",
    "# We convert the input to a floating-point number.\n",
    "num1 = float(input(\"\\nEnter first number: \"))\n",
    "num2 = float(input(\"\\nEnter second number: \"))\n",
    "\n",
    "if choice == '1':\n",
    "    # Addition\n",
    "    print(f\"{num1} + {num2} = {num1 + num2}\")\n",
    "elif choice == '2':\n",
    "    # Subtraction\n",
    "    print(f\"{num1} - {num2} = {num1 - num2}\")\n",
    "elif choice == '3':\n",
    "    # Multiplication\n",
    "    print(f\"{num1} * {num2} = {num1 * num2}\")\n",
    "elif choice == '4':\n",
    "    # Division\n",
    "    if num2 != 0:\n",
    "        print(f\"{num1} / {num2} = {num1 / num2}\")\n",
    "    else:\n",
    "        print(\"Division by zero is not allowed.\")\n",
    "else:\n",
    "    print(\"Invalid choice. Please select a valid operation.\")\n",
    "\n"
   ]
  },
  {
   "cell_type": "markdown",
   "metadata": {},
   "source": [
    "## EXERCISE 2: List like objects and functions on them\n",
    "\n",
    "Materialize lists using \n",
    "\n",
    "1. `range(50)`\n",
    "2. The function application `enumerate(list of alphabets)`\n",
    "3. Write your own enumerate function for a list using the function `zip`."
   ]
  },
  {
   "cell_type": "code",
   "execution_count": 9,
   "metadata": {},
   "outputs": [
    {
     "name": "stdout",
     "output_type": "stream",
     "text": [
      "[0, 1, 2, 3, 4, 5, 6, 7, 8, 9, 10, 11, 12, 13, 14, 15, 16, 17, 18, 19, 20, 21, 22, 23, 24, 25, 26, 27, 28, 29, 30, 31, 32, 33, 34, 35, 36, 37, 38, 39, 40, 41, 42, 43, 44, 45, 46, 47, 48, 49]\n"
     ]
    }
   ],
   "source": [
    "# your code here\n",
    "\n",
    "# Creating a list of numbers from 0 to 49\n",
    "list_from_range = list(range(50))\n",
    "print(list_from_range)\n",
    "\n"
   ]
  },
  {
   "cell_type": "code",
   "execution_count": 10,
   "metadata": {},
   "outputs": [
    {
     "name": "stdout",
     "output_type": "stream",
     "text": [
      "[(0, 'a'), (1, 'b'), (2, 'c'), (3, 'd'), (4, 'e'), (5, 'f'), (6, 'g'), (7, 'h'), (8, 'i'), (9, 'j'), (10, 'k'), (11, 'l'), (12, 'm'), (13, 'n'), (14, 'o'), (15, 'p'), (16, 'q'), (17, 'r'), (18, 's'), (19, 't'), (20, 'u'), (21, 'v'), (22, 'w'), (23, 'x'), (24, 'y'), (25, 'z')]\n"
     ]
    }
   ],
   "source": [
    "# your code here\n",
    "# List of alphabets\n",
    "alphabets = ['a', 'b', 'c', 'd', 'e', 'f', 'g', 'h', 'i', 'j', 'k', 'l', 'm', 'n', 'o', 'p', 'q', 'r', 's', 't', 'u', 'v', 'w', 'x', 'y', 'z']\n",
    "\n",
    "# Using enumerate to get index and value\n",
    "indexed_alphabets = list(enumerate(alphabets))\n",
    "print(indexed_alphabets)\n"
   ]
  },
  {
   "cell_type": "code",
   "execution_count": 11,
   "metadata": {},
   "outputs": [
    {
     "name": "stdout",
     "output_type": "stream",
     "text": [
      "[(0, 'a'), (1, 'b'), (2, 'c'), (3, 'd'), (4, 'e'), (5, 'f'), (6, 'g'), (7, 'h'), (8, 'i'), (9, 'j'), (10, 'k'), (11, 'l'), (12, 'm'), (13, 'n'), (14, 'o'), (15, 'p'), (16, 'q'), (17, 'r'), (18, 's'), (19, 't'), (20, 'u'), (21, 'v'), (22, 'w'), (23, 'x'), (24, 'y'), (25, 'z')]\n"
     ]
    }
   ],
   "source": [
    "# your code here\n",
    "# Function to mimic enumerate using zip\n",
    "def my_enumerate(iterable, start=0):\n",
    "    return zip(range(start, start + len(iterable)), iterable)\n",
    "\n",
    "# Example usage with alphabets\n",
    "my_indexed_alphabets = list(my_enumerate(alphabets))\n",
    "print(my_indexed_alphabets)\n"
   ]
  },
  {
   "cell_type": "markdown",
   "metadata": {
    "colab_type": "text",
    "id": "rUe6oWVsvj12"
   },
   "source": [
    "## EXERCISE 3: Count the special characters\n",
    "\n",
    "Consider the string \"HelloWorld,123,ThisIsUniv.Ai\" (not including the quotes). Find the number of uppercase, lowercase, special character and numerical characters.\n"
   ]
  },
  {
   "cell_type": "code",
   "execution_count": 12,
   "metadata": {},
   "outputs": [
    {
     "name": "stdout",
     "output_type": "stream",
     "text": [
      "Number of uppercase characters: 6\n",
      "Number of lowercase characters: 16\n",
      "Number of numerical characters: 3\n",
      "Number of special characters: 3\n"
     ]
    }
   ],
   "source": [
    "my_string = \"HelloWorld,123,ThisIsUniv.Ai\"\n",
    "# your code here\n",
    "import string\n",
    "\n",
    "my_string = \"HelloWorld,123,ThisIsUniv.Ai\"\n",
    "\n",
    "# Counting uppercase, lowercase, digits, and special characters\n",
    "uppercase_count = sum(1 for char in my_string if char in string.ascii_uppercase)\n",
    "lowercase_count = sum(1 for char in my_string if char in string.ascii_lowercase)\n",
    "digit_count = sum(1 for char in my_string if char.isdigit())\n",
    "special_char_count = sum(1 for char in my_string if char in string.punctuation)\n",
    "\n",
    "print(\"Number of uppercase characters:\", uppercase_count)\n",
    "print(\"Number of lowercase characters:\", lowercase_count)\n",
    "print(\"Number of numerical characters:\", digit_count)\n",
    "print(\"Number of special characters:\", special_char_count)\n"
   ]
  },
  {
   "cell_type": "code",
   "execution_count": 13,
   "metadata": {},
   "outputs": [
    {
     "ename": "NameError",
     "evalue": "name 'counter' is not defined",
     "output_type": "error",
     "traceback": [
      "\u001b[0;31m---------------------------------------------------------------------------\u001b[0m",
      "\u001b[0;31mNameError\u001b[0m                                 Traceback (most recent call last)",
      "Cell \u001b[0;32mIn[13], line 1\u001b[0m\n\u001b[0;32m----> 1\u001b[0m \u001b[43mcounter\u001b[49m(string\u001b[38;5;241m.\u001b[39mascii_uppercase, my_string),counter(string\u001b[38;5;241m.\u001b[39mascii_lowercase, my_string),counter(string\u001b[38;5;241m.\u001b[39mdigits, my_string),counter(string\u001b[38;5;241m.\u001b[39mpunctuation, my_string)\n",
      "\u001b[0;31mNameError\u001b[0m: name 'counter' is not defined"
     ]
    }
   ],
   "source": [
    "counter(string.ascii_uppercase, my_string),counter(string.ascii_lowercase, my_string),counter(string.digits, my_string),counter(string.punctuation, my_string)"
   ]
  },
  {
   "cell_type": "markdown",
   "metadata": {},
   "source": [
    "## EXERCISE 4: Read a file and parse words from it\n",
    "\n",
    "Read Julius Caesar. Get each line. Remove newline characters from each line. Split the line to get the words from the line. Lowercase them. Print the first 1000 words, lowercased."
   ]
  },
  {
   "cell_type": "code",
   "execution_count": 15,
   "metadata": {},
   "outputs": [
    {
     "ename": "FileNotFoundError",
     "evalue": "[Errno 2] No such file or directory: 'julius_caesar.txt'",
     "output_type": "error",
     "traceback": [
      "\u001b[0;31m---------------------------------------------------------------------------\u001b[0m",
      "\u001b[0;31mFileNotFoundError\u001b[0m                         Traceback (most recent call last)",
      "Cell \u001b[0;32mIn[15], line 19\u001b[0m\n\u001b[1;32m     17\u001b[0m \u001b[38;5;66;03m# Specify the path to your text file (you would replace 'julius_caesar.txt' with the actual path)\u001b[39;00m\n\u001b[1;32m     18\u001b[0m file_path \u001b[38;5;241m=\u001b[39m \u001b[38;5;124m'\u001b[39m\u001b[38;5;124mjulius_caesar.txt\u001b[39m\u001b[38;5;124m'\u001b[39m\n\u001b[0;32m---> 19\u001b[0m first_1000_words \u001b[38;5;241m=\u001b[39m \u001b[43mread_and_process_file\u001b[49m\u001b[43m(\u001b[49m\u001b[43mfile_path\u001b[49m\u001b[43m)\u001b[49m\n\u001b[1;32m     20\u001b[0m \u001b[38;5;28mprint\u001b[39m(first_1000_words)\n",
      "Cell \u001b[0;32mIn[15], line 4\u001b[0m, in \u001b[0;36mread_and_process_file\u001b[0;34m(file_path)\u001b[0m\n\u001b[1;32m      2\u001b[0m \u001b[38;5;28;01mdef\u001b[39;00m \u001b[38;5;21mread_and_process_file\u001b[39m(file_path):\n\u001b[1;32m      3\u001b[0m     words \u001b[38;5;241m=\u001b[39m []\n\u001b[0;32m----> 4\u001b[0m     \u001b[38;5;28;01mwith\u001b[39;00m \u001b[38;5;28;43mopen\u001b[39;49m\u001b[43m(\u001b[49m\u001b[43mfile_path\u001b[49m\u001b[43m,\u001b[49m\u001b[43m \u001b[49m\u001b[38;5;124;43m'\u001b[39;49m\u001b[38;5;124;43mr\u001b[39;49m\u001b[38;5;124;43m'\u001b[39;49m\u001b[43m,\u001b[49m\u001b[43m \u001b[49m\u001b[43mencoding\u001b[49m\u001b[38;5;241;43m=\u001b[39;49m\u001b[38;5;124;43m'\u001b[39;49m\u001b[38;5;124;43mutf-8\u001b[39;49m\u001b[38;5;124;43m'\u001b[39;49m\u001b[43m)\u001b[49m \u001b[38;5;28;01mas\u001b[39;00m file:\n\u001b[1;32m      5\u001b[0m         \u001b[38;5;28;01mfor\u001b[39;00m line \u001b[38;5;129;01min\u001b[39;00m file:\n\u001b[1;32m      6\u001b[0m             \u001b[38;5;66;03m# Remove newline characters and any unwanted punctuation, then lowercase the line\u001b[39;00m\n\u001b[1;32m      7\u001b[0m             cleaned_line \u001b[38;5;241m=\u001b[39m line\u001b[38;5;241m.\u001b[39mstrip()\u001b[38;5;241m.\u001b[39mlower()\n",
      "File \u001b[0;32m~/sci1/.pixi/envs/default/lib/python3.12/site-packages/IPython/core/interactiveshell.py:324\u001b[0m, in \u001b[0;36m_modified_open\u001b[0;34m(file, *args, **kwargs)\u001b[0m\n\u001b[1;32m    317\u001b[0m \u001b[38;5;28;01mif\u001b[39;00m file \u001b[38;5;129;01min\u001b[39;00m {\u001b[38;5;241m0\u001b[39m, \u001b[38;5;241m1\u001b[39m, \u001b[38;5;241m2\u001b[39m}:\n\u001b[1;32m    318\u001b[0m     \u001b[38;5;28;01mraise\u001b[39;00m \u001b[38;5;167;01mValueError\u001b[39;00m(\n\u001b[1;32m    319\u001b[0m         \u001b[38;5;124mf\u001b[39m\u001b[38;5;124m\"\u001b[39m\u001b[38;5;124mIPython won\u001b[39m\u001b[38;5;124m'\u001b[39m\u001b[38;5;124mt let you open fd=\u001b[39m\u001b[38;5;132;01m{\u001b[39;00mfile\u001b[38;5;132;01m}\u001b[39;00m\u001b[38;5;124m by default \u001b[39m\u001b[38;5;124m\"\u001b[39m\n\u001b[1;32m    320\u001b[0m         \u001b[38;5;124m\"\u001b[39m\u001b[38;5;124mas it is likely to crash IPython. If you know what you are doing, \u001b[39m\u001b[38;5;124m\"\u001b[39m\n\u001b[1;32m    321\u001b[0m         \u001b[38;5;124m\"\u001b[39m\u001b[38;5;124myou can use builtins\u001b[39m\u001b[38;5;124m'\u001b[39m\u001b[38;5;124m open.\u001b[39m\u001b[38;5;124m\"\u001b[39m\n\u001b[1;32m    322\u001b[0m     )\n\u001b[0;32m--> 324\u001b[0m \u001b[38;5;28;01mreturn\u001b[39;00m \u001b[43mio_open\u001b[49m\u001b[43m(\u001b[49m\u001b[43mfile\u001b[49m\u001b[43m,\u001b[49m\u001b[43m \u001b[49m\u001b[38;5;241;43m*\u001b[39;49m\u001b[43margs\u001b[49m\u001b[43m,\u001b[49m\u001b[43m \u001b[49m\u001b[38;5;241;43m*\u001b[39;49m\u001b[38;5;241;43m*\u001b[39;49m\u001b[43mkwargs\u001b[49m\u001b[43m)\u001b[49m\n",
      "\u001b[0;31mFileNotFoundError\u001b[0m: [Errno 2] No such file or directory: 'julius_caesar.txt'"
     ]
    }
   ],
   "source": [
    "# your code here\n",
    "def read_and_process_file(file_path):\n",
    "    words = []\n",
    "    with open(file_path, 'r', encoding='utf-8') as file:\n",
    "        for line in file:\n",
    "            # Remove newline characters and any unwanted punctuation, then lowercase the line\n",
    "            cleaned_line = line.strip().lower()\n",
    "            # Split the line into words\n",
    "            words_in_line = cleaned_line.split()\n",
    "            # Extend the list of words with the words from this line\n",
    "            words.extend(words_in_line)\n",
    "            # Stop if we have 1000 words\n",
    "            if len(words) >= 1000:\n",
    "                break\n",
    "    return words[:1000]\n",
    "\n",
    "# Specify the path to your text file (you would replace 'julius_caesar.txt' with the actual path)\n",
    "file_path = 'julius_caesar.txt'\n",
    "first_1000_words = read_and_process_file(file_path)\n",
    "print(first_1000_words)\n"
   ]
  },
  {
   "cell_type": "code",
   "execution_count": null,
   "metadata": {},
   "outputs": [],
   "source": []
  }
 ],
 "metadata": {
  "kernelspec": {
   "display_name": "Python 3 (ipykernel)",
   "language": "python",
   "name": "python3"
  },
  "language_info": {
   "codemirror_mode": {
    "name": "ipython",
    "version": 3
   },
   "file_extension": ".py",
   "mimetype": "text/x-python",
   "name": "python",
   "nbconvert_exporter": "python",
   "pygments_lexer": "ipython3",
   "version": "3.12.3"
  }
 },
 "nbformat": 4,
 "nbformat_minor": 4
}
